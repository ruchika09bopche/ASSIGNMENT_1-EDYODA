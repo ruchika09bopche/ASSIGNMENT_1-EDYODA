{
 "cells": [
  {
   "cell_type": "markdown",
   "id": "389d490c",
   "metadata": {},
   "source": [
    "# Write a Python program to count the number of even and odd numbers from a series of numbers.\n",
    "\n",
    "\n",
    "\n",
    "sample numbers: (1,2,3,4,5,6,,8,9)\n",
    "\n",
    "- No. of even numbers: 4\n",
    "- No. of odd numbers :5"
   ]
  },
  {
   "cell_type": "code",
   "execution_count": 3,
   "id": "70b7b3f5",
   "metadata": {},
   "outputs": [
    {
     "name": "stdout",
     "output_type": "stream",
     "text": [
      "Number of even numbers: 4\n",
      "Number of odd numbers: 5\n"
     ]
    }
   ],
   "source": [
    "sample_numbers=(1,2,3,4,5,6,7,8,9)\n",
    "even_num=0\n",
    "odd_num=0\n",
    "for i in sample_numbers:\n",
    "    if not i%2:\n",
    "        even_num+=1\n",
    "    else:\n",
    "        odd_num+=1\n",
    "print(\"Number of even numbers:\",even_num)\n",
    "print(\"Number of odd numbers:\",odd_num)"
   ]
  }
 ],
 "metadata": {
  "kernelspec": {
   "display_name": "Python 3 (ipykernel)",
   "language": "python",
   "name": "python3"
  },
  "language_info": {
   "codemirror_mode": {
    "name": "ipython",
    "version": 3
   },
   "file_extension": ".py",
   "mimetype": "text/x-python",
   "name": "python",
   "nbconvert_exporter": "python",
   "pygments_lexer": "ipython3",
   "version": "3.10.2"
  }
 },
 "nbformat": 4,
 "nbformat_minor": 5
}
