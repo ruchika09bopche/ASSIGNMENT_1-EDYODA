{
 "cells": [
  {
   "cell_type": "markdown",
   "id": "6f740da7",
   "metadata": {},
   "source": [
    "#  Write a program that accepts a words from a user and reverse it?\n",
    " - INPUT: Edyoda \n",
    " - OUTPUT: adoydE"
   ]
  },
  {
   "cell_type": "code",
   "execution_count": 29,
   "id": "71b47b48",
   "metadata": {},
   "outputs": [
    {
     "name": "stdout",
     "output_type": "stream",
     "text": [
      " Edyoda\n",
      "adoydE\n",
      "\n"
     ]
    }
   ],
   "source": [
    "str=input(\" \")\n",
    "for i in range(len(str) -1,-1,-1):\n",
    "    print(str[i], end=\"\")\n",
    "print(\"\\n\")"
   ]
  }
 ],
 "metadata": {
  "kernelspec": {
   "display_name": "Python 3 (ipykernel)",
   "language": "python",
   "name": "python3"
  },
  "language_info": {
   "codemirror_mode": {
    "name": "ipython",
    "version": 3
   },
   "file_extension": ".py",
   "mimetype": "text/x-python",
   "name": "python",
   "nbconvert_exporter": "python",
   "pygments_lexer": "ipython3",
   "version": "3.10.2"
  }
 },
 "nbformat": 4,
 "nbformat_minor": 5
}
