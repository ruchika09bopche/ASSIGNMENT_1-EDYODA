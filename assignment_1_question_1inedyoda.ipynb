{
 "cells": [
  {
   "cell_type": "markdown",
   "id": "7ac81a87",
   "metadata": {},
   "source": [
    "Q1 # Write a Python program to get the Fibonacci series between 0 to 50\n",
    "#### Write a program: The fibonacci sequenceis the series of numbers\n",
    " - 0,1,1,2,3,5,8,13,21----\n",
    " Every next number is found by adding the two numbers before it.\n",
    " \n",
    " - Expected output - 1 1 2 3 5 8 13 21 34"
   ]
  },
  {
   "cell_type": "code",
   "execution_count": 41,
   "id": "8348559e",
   "metadata": {},
   "outputs": [
    {
     "name": "stdout",
     "output_type": "stream",
     "text": [
      "1 1 2 3 5 8 13 21 34 "
     ]
    }
   ],
   "source": [
    "a = 0\n",
    "b = 1\n",
    "while(b<50):\n",
    "    print(b,end=\" \")\n",
    "    add=a+b\n",
    "    a=b\n",
    "    b=add"
   ]
  }
 ],
 "metadata": {
  "kernelspec": {
   "display_name": "Python 3 (ipykernel)",
   "language": "python",
   "name": "python3"
  },
  "language_info": {
   "codemirror_mode": {
    "name": "ipython",
    "version": 3
   },
   "file_extension": ".py",
   "mimetype": "text/x-python",
   "name": "python",
   "nbconvert_exporter": "python",
   "pygments_lexer": "ipython3",
   "version": "3.10.2"
  }
 },
 "nbformat": 4,
 "nbformat_minor": 5
}
