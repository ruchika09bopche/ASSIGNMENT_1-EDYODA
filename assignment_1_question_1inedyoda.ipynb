{
 "cells": [
  {
   "cell_type": "markdown",
   "id": "7ac81a87",
   "metadata": {},
   "source": [
    "\n",
    "# Write a program: The fibonacci sequenceis the series of numbers\n",
    " - 0,1,1,2,3,5,8,13,21----\n",
    " Every next number is found by adding the two numbers before it.\n",
    " \n",
    " - Expected output - 1 1 2 3 5 8 13 21 34"
   ]
  },
  {
   "cell_type": "code",
   "execution_count": 13,
   "id": "ca27b9d8",
   "metadata": {},
   "outputs": [
    {
     "name": "stdout",
     "output_type": "stream",
     "text": [
      "Eter the value of 'num':10\n",
      "FS : 1 2 3 5 8 13 21 34 55 89 "
     ]
    }
   ],
   "source": [
    "num=int(input(\"Eter the value of 'num':\"))\n",
    "a = 0\n",
    "b = 1\n",
    "add =1\n",
    "count = 1\n",
    "print(\"FS :\",end =\" \")\n",
    "while(count <=num):\n",
    "    print(add,end = \" \")\n",
    "    count += 1\n",
    "    a=b\n",
    "    b=add\n",
    "    add=a+b"
   ]
  },
  {
   "cell_type": "code",
   "execution_count": null,
   "id": "939ed3e9",
   "metadata": {},
   "outputs": [],
   "source": []
  }
 ],
 "metadata": {
  "kernelspec": {
   "display_name": "Python 3 (ipykernel)",
   "language": "python",
   "name": "python3"
  },
  "language_info": {
   "codemirror_mode": {
    "name": "ipython",
    "version": 3
   },
   "file_extension": ".py",
   "mimetype": "text/x-python",
   "name": "python",
   "nbconvert_exporter": "python",
   "pygments_lexer": "ipython3",
   "version": "3.10.2"
  }
 },
 "nbformat": 4,
 "nbformat_minor": 5
}
